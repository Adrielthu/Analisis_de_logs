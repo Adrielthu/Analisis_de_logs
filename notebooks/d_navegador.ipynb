{
 "cells": [
  {
   "cell_type": "code",
   "execution_count": 10,
   "id": "02c5eb01-f98a-42f2-86fb-b9d11d123b36",
   "metadata": {},
   "outputs": [
    {
     "name": "stdout",
     "output_type": "stream",
     "text": [
      "0\n",
      "1000000\n"
     ]
    }
   ],
   "source": [
    "# Importamos bibliotecas\n",
    "import numpy as np\n",
    "import pandas as pd\n",
    "from datetime import datetime\n",
    "import re\n",
    "from sklearn.ensemble import IsolationForest\n",
    "\n",
    "# Establecemos las columnas\n",
    "colz=[\"IP\",\"timestamp\",\"status code\",\"bytes sent\",\"user agent\"]\n",
    "\n",
    "li=[]\n",
    "c=0\n",
    "\n",
    "# Abrimos el archivo\n",
    "with open(\"../logs/access_ssl_20230404.log\") as f:\n",
    "    while(True):\n",
    "        if(c==2000000):\n",
    "            break\n",
    "        if(c%1000000==0):\n",
    "            print(c) # Esto nose, yo lo borraria\n",
    "        try:\n",
    "            x=f.readline()\n",
    "            if x==None:\n",
    "                break\n",
    "            log=x.split(\" \")\n",
    "            if(len(log)<12):\n",
    "                continue\n",
    "            #print([log[0],log[3].strip('['),log[5].strip('\"'),log[7].strip('\"'),int(log[8]),int(log[9]),' '.join(log[11:-1]).strip('\"')])\n",
    "            li.append([log[0],log[3].strip('['),int(log[8]),int(log[9]),' '.join(log[11:-1]).strip('\"')])\n",
    "        except Exception as e:\n",
    "            pass\n",
    "        c+=1\n",
    "\n",
    "# basic feature engineering\n",
    "logs_df=pd.DataFrame(li,columns=colz)\n",
    "logs_df[\"timestamp\"]=pd.to_datetime(logs_df[\"timestamp\"],format='%d/%b/%Y:%H:%M:%S')\n"
   ]
  },
  {
   "cell_type": "code",
   "execution_count": 2,
   "id": "fb9fcb3e-fde5-41fb-b505-c9ce0994fca7",
   "metadata": {},
   "outputs": [],
   "source": [
    "from ua_parser import user_agent_parser\n",
    "\n",
    "def parse_navegador(ua):\n",
    "    parsed = user_agent_parser.Parse(ua)\n",
    "    navegador = parsed[\"user_agent\"][\"family\"]\n",
    "    return pd.Series([navegador])\n",
    "\n",
    "logs_df[[\"navegador\"]] = logs_df[\"user agent\"].apply(parse_navegador)"
   ]
  },
  {
   "cell_type": "code",
   "execution_count": 2,
   "id": "787a946b-30c9-4082-8f32-a57ba221b568",
   "metadata": {},
   "outputs": [
    {
     "ename": "NameError",
     "evalue": "name 'logs_df' is not defined",
     "output_type": "error",
     "traceback": [
      "\u001b[0;31m---------------------------------------------------------------------------\u001b[0m",
      "\u001b[0;31mNameError\u001b[0m                                 Traceback (most recent call last)",
      "Cell \u001b[0;32mIn[2], line 1\u001b[0m\n\u001b[0;32m----> 1\u001b[0m \u001b[43mlogs_df\u001b[49m\n",
      "\u001b[0;31mNameError\u001b[0m: name 'logs_df' is not defined"
     ]
    }
   ],
   "source": [
    "logs_df"
   ]
  },
  {
   "cell_type": "code",
   "execution_count": 1,
   "id": "88a914a8-5c92-40bc-a158-d2d4e90adbbe",
   "metadata": {},
   "outputs": [
    {
     "ename": "NameError",
     "evalue": "name 'logs_df' is not defined",
     "output_type": "error",
     "traceback": [
      "\u001b[0;31m---------------------------------------------------------------------------\u001b[0m",
      "\u001b[0;31mNameError\u001b[0m                                 Traceback (most recent call last)",
      "Cell \u001b[0;32mIn[1], line 2\u001b[0m\n\u001b[1;32m      1\u001b[0m \u001b[38;5;66;03m# Nos quedamos solamente con las variables que nos interesan\u001b[39;00m\n\u001b[0;32m----> 2\u001b[0m navegadores \u001b[38;5;241m=\u001b[39m \u001b[43mlogs_df\u001b[49m[[\u001b[38;5;124m\"\u001b[39m\u001b[38;5;124mnavegador\u001b[39m\u001b[38;5;124m\"\u001b[39m]]\n\u001b[1;32m      4\u001b[0m \u001b[38;5;66;03m# Eliminamos duplicados\u001b[39;00m\n\u001b[1;32m      5\u001b[0m navegadores \u001b[38;5;241m=\u001b[39m navegadores\u001b[38;5;241m.\u001b[39mdrop_duplicates()\u001b[38;5;241m.\u001b[39mreset_index(drop\u001b[38;5;241m=\u001b[39m\u001b[38;5;28;01mTrue\u001b[39;00m)\n",
      "\u001b[0;31mNameError\u001b[0m: name 'logs_df' is not defined"
     ]
    }
   ],
   "source": [
    "# Nos quedamos solamente con las variables que nos interesan\n",
    "navegadores = logs_df[[\"navegador\"]]\n",
    "\n",
    "# Eliminamos duplicados\n",
    "navegadores = navegadores.drop_duplicates().reset_index(drop=True)\n",
    "\n",
    "# Añadimos el ID\n",
    "navegadores.insert(0, \"id_navegador\", range(1, len(navegadores) + 1))"
   ]
  },
  {
   "cell_type": "code",
   "execution_count": null,
   "id": "9e0bcb83-4fb2-4687-b5d8-d69bce609c5c",
   "metadata": {},
   "outputs": [],
   "source": [
    "# Vemos la tabla resultante\n",
    "navegadores"
   ]
  },
  {
   "cell_type": "code",
   "execution_count": null,
   "id": "b143d75d-99b7-4111-8491-4c8df2af5476",
   "metadata": {},
   "outputs": [],
   "source": [
    "# Actualizamos la dimension Navegadores en el DW\n",
    "from Modulos.update_dimensions_table import actualizarTablaDimension\n",
    "navegadores = actualizarTablaDimension(engine, \"navegadores\", navegadores, pk=\"id_navegador\")"
   ]
  },
  {
   "cell_type": "code",
   "execution_count": null,
   "id": "a93effea-60ad-44a3-86ab-515d74732ba9",
   "metadata": {},
   "outputs": [],
   "source": []
  },
  {
   "cell_type": "code",
   "execution_count": null,
   "id": "ec930360-c3e7-4e02-9e8c-988342263c6b",
   "metadata": {},
   "outputs": [],
   "source": []
  },
  {
   "cell_type": "code",
   "execution_count": null,
   "id": "8f8454c2-18eb-4c07-b294-96663a22888c",
   "metadata": {},
   "outputs": [],
   "source": []
  },
  {
   "cell_type": "code",
   "execution_count": null,
   "id": "5b334254-c1a5-449f-bc2b-596c0cf0e3f4",
   "metadata": {},
   "outputs": [],
   "source": []
  },
  {
   "cell_type": "code",
   "execution_count": null,
   "id": "5fd2cd14-2ce1-4ed4-8cdf-c29d98fb4252",
   "metadata": {},
   "outputs": [],
   "source": []
  },
  {
   "cell_type": "code",
   "execution_count": null,
   "id": "a2bbe7e3-f164-4c24-82d0-3fbf8e83906a",
   "metadata": {},
   "outputs": [],
   "source": []
  },
  {
   "cell_type": "code",
   "execution_count": 4,
   "id": "e82a1918-3804-4bf9-bc42-0996bb885f14",
   "metadata": {},
   "outputs": [],
   "source": [
    "import numpy as np\n",
    "import pandas as pd\n",
    "from datetime import datetime\n",
    "import re\n",
    "from ua_parser import user_agent_parser\n",
    "from sqlalchemy import create_engine\n",
    "from Modulos.update_dimensions_table import actualizarTablaDimension"
   ]
  },
  {
   "cell_type": "code",
   "execution_count": 5,
   "id": "b3d865fc-3047-4b92-b063-81260258a807",
   "metadata": {},
   "outputs": [
    {
     "name": "stdout",
     "output_type": "stream",
     "text": [
      "Procesando archivo de logs...\n",
      "Procesadas 999958 líneas...\n",
      "Procesadas 1999910 líneas...\n",
      "Procesadas 2539378 líneas...\n",
      "Procesamiento completado\n",
      "<class 'pandas.core.frame.DataFrame'>\n",
      "RangeIndex: 2539378 entries, 0 to 2539377\n",
      "Data columns (total 5 columns):\n",
      " #   Column       Dtype         \n",
      "---  ------       -----         \n",
      " 0   IP           object        \n",
      " 1   timestamp    datetime64[ns]\n",
      " 2   status code  int64         \n",
      " 3   bytes sent   int64         \n",
      " 4   user agent   object        \n",
      "dtypes: datetime64[ns](1), int64(2), object(2)\n",
      "memory usage: 96.9+ MB\n",
      "None\n"
     ]
    }
   ],
   "source": [
    "def process_log_file(filepath, chunk_size=100000):\n",
    "    colz = [\"IP\", \"timestamp\", \"status code\", \"bytes sent\", \"user agent\"]\n",
    "    all_chunks = []\n",
    "    \n",
    "    with open(\"logs/access_ssl_20230404.log\", 'r') as f:\n",
    "        lines_processed = 0\n",
    "        while True:\n",
    "            li = []\n",
    "            # Procesar chunk\n",
    "            for _ in range(chunk_size):\n",
    "                try:\n",
    "                    x = f.readline()\n",
    "                    if not x:  # EOF\n",
    "                        break\n",
    "                    log = x.split(\" \")\n",
    "                    if len(log) < 12:\n",
    "                        continue\n",
    "                    li.append([log[0], log[3].strip('['), int(log[8]), int(log[9]), ' '.join(log[11:-1]).strip('\"')])\n",
    "                except Exception as e:\n",
    "                    continue\n",
    "            \n",
    "            if not li:  # No más datos\n",
    "                break\n",
    "                \n",
    "            # Crear DataFrame del chunk\n",
    "            chunk_df = pd.DataFrame(li, columns=colz)\n",
    "            chunk_df[\"timestamp\"] = pd.to_datetime(chunk_df[\"timestamp\"], format='%d/%b/%Y:%H:%M:%S')\n",
    "            all_chunks.append(chunk_df)\n",
    "            \n",
    "            lines_processed += len(li)\n",
    "            print(f\"Procesadas {lines_processed} líneas...\")\n",
    "    \n",
    "    # Combinar todos los chunks\n",
    "    if all_chunks:\n",
    "        logs_df = pd.concat(all_chunks, ignore_index=True)\n",
    "        return logs_df\n",
    "    else:\n",
    "        return pd.DataFrame(columns=colz)\n",
    "\n",
    "# Uso\n",
    "filepath = \"logs/access_ssl_20230404.log\"\n",
    "print(\"Procesando archivo de logs...\")\n",
    "logs_df = process_log_file(filepath, chunk_size=1000000)\n",
    "print(\"Procesamiento completado\")\n",
    "print(logs_df.info())"
   ]
  },
  {
   "cell_type": "code",
   "execution_count": 6,
   "id": "b3fefdf1-d3eb-4aea-8e7f-9b2462435e20",
   "metadata": {},
   "outputs": [
    {
     "name": "stdout",
     "output_type": "stream",
     "text": [
      "User agents únicos: 9704 de 2539378\n",
      "Parseando user agents únicos...\n",
      "   id_navegador              navegador\n",
      "0             1                 Chrome\n",
      "1             2                  Other\n",
      "2             3              WordPress\n",
      "3             4  Chrome Mobile WebView\n",
      "4             5              Googlebot\n"
     ]
    }
   ],
   "source": [
    "# -----------------------------------------------------------\n",
    "# Versión OPTIMIZADA - hasta 100x más rápida\n",
    "# -----------------------------------------------------------\n",
    "\n",
    "# Primero obtener user agents únicos\n",
    "user_agents_unicos = logs_df[\"user agent\"].unique()\n",
    "print(f\"User agents únicos: {len(user_agents_unicos)} de {len(logs_df)}\")\n",
    "\n",
    "# Crear un diccionario cache para no parsear duplicados\n",
    "navegador_cache = {}\n",
    "\n",
    "def parse_navegador_rapido(ua):\n",
    "    if ua not in navegador_cache:\n",
    "        parsed = user_agent_parser.Parse(ua)\n",
    "        navegador_cache[ua] = parsed[\"user_agent\"][\"family\"]\n",
    "    return navegador_cache[ua]\n",
    "\n",
    "# Aplicar solo a los únicos primero\n",
    "print(\"Parseando user agents únicos...\")\n",
    "navegadores_unicos = [parse_navegador_rapido(ua) for ua in user_agents_unicos]\n",
    "\n",
    "# Crear el mapeo completo\n",
    "navegador_por_ua = dict(zip(user_agents_unicos, navegadores_unicos))\n",
    "\n",
    "# Aplicar el mapeo a todo el DataFrame (instantáneo)\n",
    "logs_df[\"navegador\"] = logs_df[\"user agent\"].map(navegador_por_ua)\n",
    "\n",
    "# Crear la dimensión\n",
    "navegadores = pd.DataFrame({\n",
    "    'navegador': navegadores_unicos\n",
    "}).drop_duplicates().reset_index(drop=True)\n",
    "\n",
    "navegadores.insert(0, \"id_navegador\", range(1, len(navegadores) + 1))\n",
    "\n",
    "print(navegadores.head())"
   ]
  },
  {
   "cell_type": "code",
   "execution_count": 7,
   "id": "3c053d62-fc7e-42e1-84ab-f18cac6fad4d",
   "metadata": {},
   "outputs": [
    {
     "data": {
      "text/html": [
       "<div>\n",
       "<style scoped>\n",
       "    .dataframe tbody tr th:only-of-type {\n",
       "        vertical-align: middle;\n",
       "    }\n",
       "\n",
       "    .dataframe tbody tr th {\n",
       "        vertical-align: top;\n",
       "    }\n",
       "\n",
       "    .dataframe thead th {\n",
       "        text-align: right;\n",
       "    }\n",
       "</style>\n",
       "<table border=\"1\" class=\"dataframe\">\n",
       "  <thead>\n",
       "    <tr style=\"text-align: right;\">\n",
       "      <th></th>\n",
       "      <th>id_navegador</th>\n",
       "      <th>navegador</th>\n",
       "    </tr>\n",
       "  </thead>\n",
       "  <tbody>\n",
       "    <tr>\n",
       "      <th>0</th>\n",
       "      <td>1</td>\n",
       "      <td>Chrome</td>\n",
       "    </tr>\n",
       "    <tr>\n",
       "      <th>1</th>\n",
       "      <td>2</td>\n",
       "      <td>Other</td>\n",
       "    </tr>\n",
       "    <tr>\n",
       "      <th>2</th>\n",
       "      <td>3</td>\n",
       "      <td>WordPress</td>\n",
       "    </tr>\n",
       "    <tr>\n",
       "      <th>3</th>\n",
       "      <td>4</td>\n",
       "      <td>Chrome Mobile WebView</td>\n",
       "    </tr>\n",
       "    <tr>\n",
       "      <th>4</th>\n",
       "      <td>5</td>\n",
       "      <td>Googlebot</td>\n",
       "    </tr>\n",
       "    <tr>\n",
       "      <th>...</th>\n",
       "      <td>...</td>\n",
       "      <td>...</td>\n",
       "    </tr>\n",
       "    <tr>\n",
       "      <th>117</th>\n",
       "      <td>118</td>\n",
       "      <td>bitlybot</td>\n",
       "    </tr>\n",
       "    <tr>\n",
       "      <th>118</th>\n",
       "      <td>119</td>\n",
       "      <td>InternetArchive</td>\n",
       "    </tr>\n",
       "    <tr>\n",
       "      <th>119</th>\n",
       "      <td>120</td>\n",
       "      <td>Scribdbot</td>\n",
       "    </tr>\n",
       "    <tr>\n",
       "      <th>120</th>\n",
       "      <td>121</td>\n",
       "      <td>t3versionsBot</td>\n",
       "    </tr>\n",
       "    <tr>\n",
       "      <th>121</th>\n",
       "      <td>122</td>\n",
       "      <td>AppEngine-Google</td>\n",
       "    </tr>\n",
       "  </tbody>\n",
       "</table>\n",
       "<p>122 rows × 2 columns</p>\n",
       "</div>"
      ],
      "text/plain": [
       "     id_navegador              navegador\n",
       "0               1                 Chrome\n",
       "1               2                  Other\n",
       "2               3              WordPress\n",
       "3               4  Chrome Mobile WebView\n",
       "4               5              Googlebot\n",
       "..            ...                    ...\n",
       "117           118               bitlybot\n",
       "118           119        InternetArchive\n",
       "119           120              Scribdbot\n",
       "120           121          t3versionsBot\n",
       "121           122       AppEngine-Google\n",
       "\n",
       "[122 rows x 2 columns]"
      ]
     },
     "execution_count": 7,
     "metadata": {},
     "output_type": "execute_result"
    }
   ],
   "source": [
    "navegadores"
   ]
  },
  {
   "cell_type": "code",
   "execution_count": null,
   "id": "0ba9bb56-702f-4e48-b066-2a8611546189",
   "metadata": {},
   "outputs": [],
   "source": [
    "# -----------------------------------------------------------\n",
    "# Versión OPTIMIZADA de navegador dispositivo\n",
    "# -----------------------------------------------------------\n",
    "\n",
    "from ua_parser import user_agent_parser\n",
    "\n",
    "unique_uas = logs_df[\"user agent\"].unique()\n",
    "\n",
    "# Parsear únicos\n",
    "def parse_ua(ua):\n",
    "    parsed = user_agent_parser.Parse(ua)\n",
    "    return (\n",
    "        parsed[\"user_agent\"][\"family\"] or \"desconocido\",\n",
    "        parsed[\"os\"][\"family\"] or \"desconocido\",\n",
    "        parsed[\"device\"][\"brand\"] or \"desconocido\",\n",
    "        parsed[\"device\"][\"model\"] or \"desconocido\"\n",
    "    )\n",
    "\n",
    "parsed_unique = pd.DataFrame(\n",
    "    [parse_ua(ua) for ua in unique_uas],\n",
    "    columns=[\"navegador\", \"so\", \"marca\", \"modelo\"],\n",
    "    index=unique_uas\n",
    ")\n",
    "\n",
    "# Mapear de vuelta a logs_df\n",
    "logs_df = logs_df.join(parsed_unique, on=\"user agent\")\n",
    "print(logs_df)"
   ]
  }
 ],
 "metadata": {
  "kernelspec": {
   "display_name": "Python 3 (ipykernel)",
   "language": "python",
   "name": "python3"
  },
  "language_info": {
   "codemirror_mode": {
    "name": "ipython",
    "version": 3
   },
   "file_extension": ".py",
   "mimetype": "text/x-python",
   "name": "python",
   "nbconvert_exporter": "python",
   "pygments_lexer": "ipython3",
   "version": "3.11.6"
  }
 },
 "nbformat": 4,
 "nbformat_minor": 5
}
